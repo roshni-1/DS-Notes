{
  "nbformat": 4,
  "nbformat_minor": 0,
  "metadata": {
    "colab": {
      "provenance": []
    },
    "kernelspec": {
      "name": "python3",
      "display_name": "Python 3"
    },
    "language_info": {
      "name": "python"
    }
  },
  "cells": [
    {
      "cell_type": "markdown",
      "source": [
        "# **Functions**\n",
        "\n",
        "Functions in Python are reusable block of code that are designed to perfrom specific tasks. Functions avoid repeating the code, and can be called as required. Also functions are a greate way to organize the python programs.\n",
        "\n",
        "Python provides two types of functions\n",
        "\n",
        "1. **User defined functions** - These functions are created by you.  You have to write these functions from scratch.\n",
        "2. **Built in Functions** - Python provides several built in fucntions which you can directly use. eg: **print(), input(), len(), sum(), type() etc.** You don't have to write the code for these functions from scratch. You can directly use these functions.\n",
        "\n",
        "**Syntax for user -defining functions:**\n",
        "\n",
        "```\n",
        "# def function_name(parameters):\n",
        "    # code block of function to exceute whenever the function is called.\n",
        "    return value (optional)\n",
        "\n",
        "```\n",
        "\n",
        "### **Calling Functions**\n",
        "\n",
        "Functions are executed only after they are called. To call a function you need to use the function_name along with round bracket(parenthesis). In case if arguements are required, you can pass them while calling the function in the round brackets(parenthesis).\n",
        "\n",
        "```\n",
        "function_name(arguements) # function with arguements\n",
        "\n",
        "function_name() # function without arguements\n",
        "```\n",
        "### **Parameters**\n",
        "\n",
        "Parameters are placeholders defined in the function declaration.They allow functions to accept inputs.\n",
        "\n",
        "```\n",
        "def add(a,b):\n",
        "  return a + b\n",
        "\n",
        "add(5,6)\n",
        "```\n",
        "In the above code, a,b are parameters, They are placeholders which can accept values, where as 5,6 are actual values also known as arguments.\n",
        "\n",
        "### **Arguments**\n",
        "\n",
        "Arguments in python are actual values passed during function call.\n",
        "\n",
        "```\n",
        "def greet(name):\n",
        "  print(\"Hello, Good Morning\", name)\n",
        "\n",
        "greet(\"abc\")  \n",
        "\n",
        "```\n",
        "\n",
        "In the code above, name is a parameter passed during function declaration. abc is an argument passed during function call.\n",
        "\n",
        "There are several types of arguments in Python:\n",
        "\n",
        "1. **Positional Arguments:** Positional arguments are used when calling a function, and the order in which you pass the values is very important. The first value goes to the first parameter, the second value goes to the second parameter, and so on. The function matches the values to the parameters based on their position in the list.\n",
        "\n",
        "```\n",
        "def area_rectangle(l,b):\n",
        "  print(\"Area of rectangle is :\", l * b)\n",
        "\n",
        "area_rectangle(10,20)\n",
        "\n",
        "```\n",
        "\n",
        "Here in the above example, the parameters passed are l, b. Arguments passed are 10, 20. where l is 10, and b is 20.\n",
        "\n",
        "\n",
        "2. **Keyword arguments:** Keyword arguments are values you pass to a function by name, instead of just by position. This makes it clear what each value is for, and sometimes allows you to skip writing all the arguments in order. For keywords arguments, we mention the parameter name along with the argument at function call.\n",
        "\n",
        "```\n",
        "def area_rectangle(l,b):\n",
        "  return l * b\n",
        "\n",
        "area_rectangle(b = 7 , l = 8)  \n",
        "```\n",
        "In the above example, at function call we declare the parameter name along with the argument. So in the keyword argument the position doesn't matter as it's completely based on keywords or parameters name.\n",
        "\n",
        "\n",
        "3. **Variable - Length arguments:** Variable length arguments can accept any number of arguments.When we don't know how many arguments a function will have, we use variable length arguments.\n",
        "\n",
        "- ***args :** *args accepts positional variable length arguments, in the form of tuple. We can pass any number of positional length arguments using *args.\n",
        "\n",
        "```\n",
        "def greet(*args):\n",
        "  for name in args:\n",
        "    print(f\"Hello,{name}\")\n",
        "greet(\"Pooja\", \"Rutuja\", \"Shreya\")\n",
        "\n",
        "--------------------------------------------------------------------------------\n",
        "# Output:\n",
        "\n",
        "Hello,Pooja\n",
        "Hello,Rutuja\n",
        "Hello,Shreya\n",
        "\n",
        "```\n",
        "In the above example, *args accepts multiple arguments, *args provides a way for a function to accept an indefinite number of positional arguments, which are then made available within the function as a single variable (often named args). You can also use different name instead of args but the asterik sign at the beginning is important and mandatory.\n",
        "\n",
        "- ****kwargs:** **kwargs can accept any number of keyword arguments. It accepts multiple keyword arguments and stores them in key, value pairs in dictionary.\n",
        "\n",
        "\n",
        "\n",
        "\n",
        "\n",
        "\n"
      ],
      "metadata": {
        "id": "b1ScIdDs_G7t"
      }
    },
    {
      "cell_type": "code",
      "source": [
        "def area_rectangle(l,b): # declaring a function area_rectangle with parameters l and b\n",
        "  print(\"Area of rectangle is :\", l * b)\n",
        "\n",
        "area_rectangle(10,20) # passing the positional arguments in similar position, so l is 10 and b is 20"
      ],
      "metadata": {
        "colab": {
          "base_uri": "https://localhost:8080/"
        },
        "id": "Nud6Wdsa_GhA",
        "outputId": "74fc9f0a-8964-4967-9ab7-44fa0c2ce34e"
      },
      "execution_count": null,
      "outputs": [
        {
          "output_type": "stream",
          "name": "stdout",
          "text": [
            "Area of rectangle is : 200\n"
          ]
        }
      ]
    },
    {
      "cell_type": "code",
      "source": [
        "# Function with positional arguments\n",
        "def add_numbers(a, b):\n",
        "    return a + b\n",
        "\n",
        "# Calling the function\n",
        "result = add_numbers(5, 3)\n",
        "print(\"The sum is:\", result)"
      ],
      "metadata": {
        "colab": {
          "base_uri": "https://localhost:8080/"
        },
        "id": "oBcjmKABVE-Q",
        "outputId": "4edad527-4a70-4b0c-ba70-472854cdec72"
      },
      "execution_count": 8,
      "outputs": [
        {
          "output_type": "stream",
          "name": "stdout",
          "text": [
            "The sum is: 8\n"
          ]
        }
      ]
    },
    {
      "cell_type": "code",
      "execution_count": null,
      "metadata": {
        "id": "vTTjyh0mgRCw"
      },
      "outputs": [],
      "source": [
        "def area_rectangle(l,b): # declaring a function area_rectangle with parameters l and b\n",
        "  print(\"Area of rectangle is :\", l * b)\n",
        "\n",
        "area_rectangle(b =10,l =20) # passing the keyword arguments in any position, so b is 10 and l is 20"
      ]
    },
    {
      "cell_type": "markdown",
      "source": [],
      "metadata": {
        "id": "36WGii0igkK8"
      }
    },
    {
      "cell_type": "code",
      "source": [
        "def greet(*args): # declaring a function greet which can accept any number of positional arguments\n",
        "  for name in args:\n",
        "    print(f\"Hello,{name}\")\n",
        "greet(\"Pooja\", \"Rutuja\", \"Shreya\") # using args we can pass any number of positional arguments\n"
      ],
      "metadata": {
        "id": "2N4SSLQOgivd",
        "colab": {
          "base_uri": "https://localhost:8080/"
        },
        "outputId": "dc9e89bc-6bce-40f0-e231-20b5031501b6"
      },
      "execution_count": null,
      "outputs": [
        {
          "output_type": "stream",
          "name": "stdout",
          "text": [
            "Hello,Pooja\n",
            "Hello,Rutuja\n",
            "Hello,Shreya\n"
          ]
        }
      ]
    },
    {
      "cell_type": "code",
      "source": [
        "def greet(**kwargs):  # declaring a function greet which can accept multiple variable length keyword arguments\n",
        "  for k, v in kwargs.items(): # kwargs stores keyword and it's values in dictionay in key:value pair so we are accessing it in key, value pairs using for loops\n",
        "    print(f\"{k}:{v}\")\n",
        "\n",
        "greet(name = \"Pooja\", age = 20) # using kwargs we can specify variable length keyword arguments.\n"
      ],
      "metadata": {
        "colab": {
          "base_uri": "https://localhost:8080/"
        },
        "id": "7KR4GqgCSdJ-",
        "outputId": "e196f724-804e-4501-8904-07f1b4a823f9"
      },
      "execution_count": 1,
      "outputs": [
        {
          "output_type": "stream",
          "name": "stdout",
          "text": [
            "name:Pooja\n",
            "age:20\n"
          ]
        }
      ]
    },
    {
      "cell_type": "code",
      "source": [
        "# **kwargs - Keyword variable length arguments\n",
        "# used when the named(keyword) arguments are not specified\n",
        "\n",
        "\n",
        "def info(**kwargs):\n",
        "  for key, value in kwargs.items():\n",
        "     print(f\"{key}:{value}\")\n",
        "\n",
        "info(name =\"abc\", age = 20, city = \"Pune\")\n"
      ],
      "metadata": {
        "colab": {
          "base_uri": "https://localhost:8080/"
        },
        "id": "mJPbMZlvTPzq",
        "outputId": "f85365cb-1004-4613-882c-9250f1f1d9a2"
      },
      "execution_count": 3,
      "outputs": [
        {
          "output_type": "stream",
          "name": "stdout",
          "text": [
            "name:abc\n",
            "age:20\n",
            "city:Pune\n"
          ]
        }
      ]
    },
    {
      "cell_type": "code",
      "source": [
        "#Write a function describe_car that accepts a car’s model (as a positional argument) and any number of features using **kwargs.\n",
        "\n",
        "def car(model, **kwargs):\n",
        "   print(f\"Car mode is : {model}\")\n",
        "   for key, value in kwargs.items():\n",
        "     print(f\"Car feature : {key}, is {value} \")\n",
        "\n",
        "car(\"Jeep\", color = \"black\", car_year = \"2025\", function = \"Automatic\")"
      ],
      "metadata": {
        "colab": {
          "base_uri": "https://localhost:8080/"
        },
        "id": "Uus3oc9mUkSS",
        "outputId": "78823da8-0efb-409b-83f5-51e69c6dc720"
      },
      "execution_count": 2,
      "outputs": [
        {
          "output_type": "stream",
          "name": "stdout",
          "text": [
            "Car mode is : Jeep\n",
            "Car feature : color, is black \n",
            "Car feature : car_year, is 2025 \n",
            "Car feature : function, is Automatic \n"
          ]
        }
      ]
    },
    {
      "cell_type": "code",
      "source": [
        "\"\"\"\n",
        "4. Dynamic Email GeneratorRequirements:\n",
        "\n",
        "Takes the recipient’s name (positional)\n",
        "\n",
        "Accepts any number of lines in the body via *args\n",
        "\n",
        "Accepts optional settings (**kwargs), like sender, subject, and signature\n",
        "\n",
        "Prints the formatted email\n",
        "\n",
        "\"\"\"\n",
        "\n",
        "def email_generator(recipent_name, *body, **details):\n",
        "  print(f\"Email sent to : {recipent_name}\")\n",
        "  print(f\"Email is: {body}\")\n",
        "  for key , value in details.items():\n",
        "    print(f\"{key} = {value}\")\n",
        "\n",
        "email_generator(\"abc\",\"Hello\", \"I hope this email finds you well.\", \"Please find the below attachment.\", sender = \"def\", subject = \"Attachment\", signature = \"Junior.DA \")"
      ],
      "metadata": {
        "colab": {
          "base_uri": "https://localhost:8080/"
        },
        "id": "05RubcHCUphG",
        "outputId": "7a11d159-2f67-4339-8bfe-7688eeaec1cb"
      },
      "execution_count": 6,
      "outputs": [
        {
          "output_type": "stream",
          "name": "stdout",
          "text": [
            "Email sent to : abc\n",
            "Email is: ('Hello', 'I hope this email finds you well.', 'Please find the below attachment.')\n",
            "sender = def\n",
            "subject = Attachment\n",
            "signature = Junior.DA \n"
          ]
        }
      ]
    },
    {
      "cell_type": "code",
      "source": [
        "\"\"\"\n",
        "3.Create Character Profile for a Game Requirements:\n",
        "\n",
        "Accepts character class as first argument\n",
        "\n",
        "Accepts any number of skills via *args\n",
        "\n",
        "Accepts keyword attributes via **kwargs (like strength, agility, magic, etc.)\n",
        "\"\"\"\n",
        "\n",
        "def character_profile(char_name,char_class, *skills, **details):\n",
        "  print(f\"Character name is: {char_name}\")\n",
        "  print(f\"Character class is : {char_class}\")\n",
        "  print(f\"Character skills are: {skills}\")\n",
        "  for key, value in details.items():\n",
        "    print(f\"{key} :{value}\")\n",
        "\n",
        "character_profile(\"xyz\", \"Racer\", \"Biker\", \"Car Racer\", strength = 90, power = \"High\", intelligence = \"High\")"
      ],
      "metadata": {
        "colab": {
          "base_uri": "https://localhost:8080/"
        },
        "id": "9jiIHKfnUtav",
        "outputId": "bb0b3324-b89d-46ac-ea14-7b949c7bc7e5"
      },
      "execution_count": 7,
      "outputs": [
        {
          "output_type": "stream",
          "name": "stdout",
          "text": [
            "Character name is: xyz\n",
            "Character class is : Racer\n",
            "Character skills are: ('Biker', 'Car Racer')\n",
            "strength :90\n",
            "power :High\n",
            "intelligence :High\n"
          ]
        }
      ]
    },
    {
      "cell_type": "code",
      "source": [
        "# Function demonstrating all types of arguments\n",
        "def comprehensive_function(a, b=10, *args, c=20, d, **kwargs): #declaring a function with all parameters and arguments\n",
        "    print(\"Positional arguments:\", a, b)\n",
        "    print(\"Additional positional arguments (*args):\", args)\n",
        "    print(\"Keyword arguments with defaults:\", c, d)\n",
        "    print(\"Additional keyword arguments (**kwargs):\", kwargs)\n",
        "\n",
        "# Calling the function\n",
        "comprehensive_function(1, 2, 3, 4, 5, d=30, e=40, f=50) #calling the function via passing the arguments for all the types of arguments"
      ],
      "metadata": {
        "colab": {
          "base_uri": "https://localhost:8080/"
        },
        "id": "gCos6lPeU2eI",
        "outputId": "dbbf95db-920c-4365-9390-4f985bce8463"
      },
      "execution_count": 9,
      "outputs": [
        {
          "output_type": "stream",
          "name": "stdout",
          "text": [
            "Positional arguments: 1 2\n",
            "Additional positional arguments (*args): (3, 4, 5)\n",
            "Keyword arguments with defaults: 20 30\n",
            "Additional keyword arguments (**kwargs): {'e': 40, 'f': 50}\n"
          ]
        }
      ]
    },
    {
      "cell_type": "markdown",
      "source": [
        "## **Recursive Function**\n",
        "\n",
        "A recursive function is a function that calls itself to solve a problem by breaking it down into smaller, similar sub-problems. It's like a loop, but instead of repeating code, the function keeps calling itself with slightly different inputs until it reaches a stopping condition.\n",
        "\n",
        "Every recursive function has two main parts:\n",
        "\n",
        " **1. Base Case:** The simplest possible case that doesn't need recursion (this stops the recursion)\n",
        "\n",
        "**2. Recursive Case:** The part where the function calls itself with a modified input.\n",
        "\n",
        "#### **Why Use Recursion?**\n",
        "\n",
        "Recursion is useful for:\n",
        "\n",
        "- Problems that can be divided into similar sub-problems.\n",
        "\n",
        "- Working with nested data structures (like trees).\n",
        "\n",
        "- Writing cleaner code for certain algorithms."
      ],
      "metadata": {
        "id": "fHcLtHM3Vr0A"
      }
    },
    {
      "cell_type": "code",
      "source": [
        "def countdown(n):\n",
        "    if n <= 0:  # Base case\n",
        "        print(\"Blastoff!\")\n",
        "    else:        # Recursive case\n",
        "        print(n)\n",
        "        countdown(n - 1)  # Function calls itself\n",
        "\n",
        "countdown(5)"
      ],
      "metadata": {
        "colab": {
          "base_uri": "https://localhost:8080/"
        },
        "id": "E-BQ9NMGXCfr",
        "outputId": "2ca852a4-56b8-4f41-d343-9c6deb61c86b"
      },
      "execution_count": 12,
      "outputs": [
        {
          "output_type": "stream",
          "name": "stdout",
          "text": [
            "5\n",
            "4\n",
            "3\n",
            "2\n",
            "1\n",
            "Blastoff!\n"
          ]
        }
      ]
    },
    {
      "cell_type": "code",
      "source": [
        "# Recursive function to calculate factorial of a number\n",
        "def factorial(n):\n",
        "    # Base case:\n",
        "    # If n is 0 or 1, the factorial is defined as 1\n",
        "    # This stops the recursion from going infinitely\n",
        "    if n == 0 or n == 1:\n",
        "        return 1\n",
        "\n",
        "    # Recursive case:\n",
        "    # For any number greater than 1, factorial is calculated as:\n",
        "    # n multiplied by factorial of (n-1)\n",
        "    # This is where the function calls itself with a smaller value\n",
        "    else:\n",
        "        return n * factorial(n - 1)\n",
        "\n",
        "# Main program execution starts here\n",
        "# We want to calculate factorial of this number\n",
        "num = 5\n",
        "\n",
        "# Calling the factorial function with our number\n",
        "# The f-string formats the output to include both the number and its factorial\n",
        "print(f\"Factorial of {num} is {factorial(num)}\")"
      ],
      "metadata": {
        "colab": {
          "base_uri": "https://localhost:8080/"
        },
        "id": "zfGvLB_8VkTI",
        "outputId": "2848d554-9f86-41ac-8d6c-2739fed9e863"
      },
      "execution_count": 11,
      "outputs": [
        {
          "output_type": "stream",
          "name": "stdout",
          "text": [
            "Factorial of 5 is 120\n"
          ]
        }
      ]
    },
    {
      "cell_type": "code",
      "source": [
        "# Recursive function to calculate the nth Fibonacci number\n",
        "def fibonacci(n):\n",
        "    # Base case 1:\n",
        "    # Fibonacci(0) is defined as 0 by mathematical convention\n",
        "    if n == 0:\n",
        "        return 0\n",
        "\n",
        "    # Base case 2:\n",
        "    # Fibonacci(1) is defined as 1 by mathematical convention\n",
        "    elif n == 1:\n",
        "        return 1\n",
        "\n",
        "    # Recursive case:\n",
        "    # For n > 1, Fibonacci(n) = Fibonacci(n-1) + Fibonacci(n-2)\n",
        "    # This is the mathematical definition of the Fibonacci sequence\n",
        "    # The function calls itself twice - once for (n-1) and once for (n-2)\n",
        "    else:\n",
        "        return fibonacci(n - 1) + fibonacci(n - 2)\n",
        "\n",
        "# Main program execution\n",
        "# Calculate and print the 6th Fibonacci number (0-indexed)\n",
        "# The sequence is: 0, 1, 1, 2, 3, 5, 8, 13, ...\n",
        "print(fibonacci(6))"
      ],
      "metadata": {
        "colab": {
          "base_uri": "https://localhost:8080/"
        },
        "id": "nZ5FTf3BWna9",
        "outputId": "dcd21c06-2491-4edd-c1c2-1c5bd171e288"
      },
      "execution_count": 10,
      "outputs": [
        {
          "output_type": "stream",
          "name": "stdout",
          "text": [
            "8\n"
          ]
        }
      ]
    },
    {
      "cell_type": "code",
      "source": [
        "# Recursive function to calculate the sum of all digits in a number\n",
        "def sum_digits(n):\n",
        "    # Base case: when n is a single-digit number (0-9)\n",
        "    # We can simply return the number itself as its own digit sum\n",
        "    if n < 10:\n",
        "        return n\n",
        "\n",
        "    # Recursive case: for numbers with 2+ digits\n",
        "    else:\n",
        "        # n % 10 extracts the last digit (remainder when divided by 10)\n",
        "        # n // 10 removes the last digit (integer division by 10)\n",
        "        # We add the current last digit to the sum of the remaining digits\n",
        "        return n % 10 + sum_digits(n // 10)\n",
        "\n",
        "# Example usage: calculate sum of digits in 12345\n",
        "print(sum_digits(12345))  # Output:(1+2+3+4+5) = 15"
      ],
      "metadata": {
        "colab": {
          "base_uri": "https://localhost:8080/"
        },
        "id": "-PslkjV4W8m5",
        "outputId": "66672e6b-00db-4390-cbee-03426dccb3d8"
      },
      "execution_count": 13,
      "outputs": [
        {
          "output_type": "stream",
          "name": "stdout",
          "text": [
            "15\n"
          ]
        }
      ]
    },
    {
      "cell_type": "markdown",
      "source": [
        "**Questions for you to practice**\n",
        "\n",
        "1. Write a function that accepts *args and returns their sum.\n",
        "2. Write a function to reverse a string.\n",
        "3. Write a function to check if a string is a palindrome.\n",
        "4. Write a function to count vowels in a string.\n",
        "5. Write a function that returns the larger of two numbers.\n",
        "6. Write a recursive function to count the number of digits in an integer.\n",
        "7. Write a recursive function to check if a number is even (without using %).\n",
        "8. Write a recursive function to sum even numbers from 1 to n.\n",
        "9. Write a function that checks if a year is a leap year.\n",
        "10. Write a function to calculate the average of numbers in a list.\n",
        "\n",
        "\n",
        "\n",
        "\n",
        "\n",
        "\n",
        "\n",
        "\n",
        "\n",
        "\n"
      ],
      "metadata": {
        "id": "46leKVG6Xilw"
      }
    }
  ]
}